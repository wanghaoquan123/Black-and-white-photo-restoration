{
 "cells": [
  {
   "cell_type": "code",
   "execution_count": 3,
   "metadata": {},
   "outputs": [],
   "source": [
    "import os\n",
    "from PIL import Image\n",
    "from multiprocessing import Pool"
   ]
  },
  {
   "cell_type": "code",
   "execution_count": 4,
   "metadata": {},
   "outputs": [
    {
     "name": "stderr",
     "output_type": "stream",
     "text": [
      "/home/ubuntu/anaconda3/envs/tensorflow_p36/lib/python3.6/site-packages/PIL/TiffImagePlugin.py:764: UserWarning: Corrupt EXIF data.  Expecting to read 4 bytes but only got 0. \n",
      "  warnings.warn(str(msg))\n"
     ]
    },
    {
     "name": "stdout",
     "output_type": "stream",
     "text": [
      "Done!\n"
     ]
    }
   ],
   "source": [
    "def remove_small_files(path_name):\n",
    "    try:\n",
    "        with Image.open(path_name[0]) as im:\n",
    "            x, y = im.size\n",
    "            if x < 200 or y < 200:\n",
    "                os.rename(path_name[0], '/home/ubuntu/storage/BW_images/' + path_name[1])\n",
    "    except:\n",
    "        print('Error!')\n",
    "        os.rename(path_name[0], '/home/ubuntu/storage/error_files/' + path_name[1])\n",
    "\n",
    "if __name__ == \"__main__\":\n",
    "    img_dir = r\"./pixa_ready/\"\n",
    "    images = []\n",
    "\n",
    "    for filename in os.listdir(img_dir):\n",
    "        filepath = os.path.join(img_dir, filename)\n",
    "        images.append([filepath, filename])\n",
    "\n",
    "    pool = Pool(processes=16) \n",
    "    pool.map(remove_small_files, images)\n",
    "\n",
    "    print(\"Done!\")"
   ]
  },
  {
   "cell_type": "code",
   "execution_count": null,
   "metadata": {},
   "outputs": [],
   "source": []
  }
 ],
 "metadata": {
  "kernelspec": {
   "display_name": "Environment (conda_tensorflow_p36)",
   "language": "python",
   "name": "conda_tensorflow_p36"
  },
  "language_info": {
   "codemirror_mode": {
    "name": "ipython",
    "version": 3
   },
   "file_extension": ".py",
   "mimetype": "text/x-python",
   "name": "python",
   "nbconvert_exporter": "python",
   "pygments_lexer": "ipython3",
   "version": "3.6.6"
  }
 },
 "nbformat": 4,
 "nbformat_minor": 2
}
