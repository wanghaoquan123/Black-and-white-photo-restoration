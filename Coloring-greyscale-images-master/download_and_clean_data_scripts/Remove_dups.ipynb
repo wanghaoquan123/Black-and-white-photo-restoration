{
 "cells": [
  {
   "cell_type": "code",
   "execution_count": 5,
   "metadata": {},
   "outputs": [],
   "source": [
    "import os\n",
    "from PIL import Image\n",
    "from shutil import copyfile"
   ]
  },
  {
   "cell_type": "code",
   "execution_count": 8,
   "metadata": {},
   "outputs": [],
   "source": [
    "img_dir = r\"./all_images/\"\n",
    "\n",
    "images = []\n",
    "for filename in os.listdir(img_dir):\n",
    "    images.append(filename)\n",
    "\n",
    "images.sort()\n",
    "\n",
    "def get_orgname(org_name):\n",
    "    name = org_name.partition(\" \")[0]\n",
    "    if name == org_name:\n",
    "        name = org_name.partition(\".\")[0]\n",
    "    return name\n",
    "\n",
    "def get_size(filepath):\n",
    "    with Image.open(first_filepath) as im:\n",
    "        x, y = im.size\n",
    "    return x * y\n",
    "    \n",
    "\n",
    "curr_name = ''\n",
    "for i in range(len(images) - 1):\n",
    "    if curr_name == '':\n",
    "        curr_name = images[i]\n",
    "        \n",
    "    second_name = images[i + 1]\n",
    "    \n",
    "    if get_orgname(curr_name) == get_orgname(second_name):\n",
    "        first_filepath = os.path.join(img_dir, curr_name)\n",
    "        second_filepath = os.path.join(img_dir, second_name)\n",
    "        first_size = get_size(first_filepath)\n",
    "        second_size = get_size(second_filepath)\n",
    "        \n",
    "        if first_size < second_size:\n",
    "            curr_name = second_name\n",
    "        i += 1\n",
    "    else:\n",
    "        copyfile(os.path.join(img_dir, curr_name), '/home/ubuntu/storage/org_large/' + curr_name)\n",
    "        curr_name = ''\n",
    "        i += 1\n",
    "            "
   ]
  },
  {
   "cell_type": "code",
   "execution_count": null,
   "metadata": {},
   "outputs": [],
   "source": []
  }
 ],
 "metadata": {
  "kernelspec": {
   "display_name": "Environment (conda_tensorflow_p36)",
   "language": "python",
   "name": "conda_tensorflow_p36"
  },
  "language_info": {
   "codemirror_mode": {
    "name": "ipython",
    "version": 3
   },
   "file_extension": ".py",
   "mimetype": "text/x-python",
   "name": "python",
   "nbconvert_exporter": "python",
   "pygments_lexer": "ipython3",
   "version": "3.6.5"
  }
 },
 "nbformat": 4,
 "nbformat_minor": 2
}
