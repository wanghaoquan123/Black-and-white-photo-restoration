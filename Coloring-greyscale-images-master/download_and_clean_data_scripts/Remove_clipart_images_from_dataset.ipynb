{
 "cells": [
  {
   "cell_type": "code",
   "execution_count": 1,
   "metadata": {},
   "outputs": [],
   "source": [
    "from PIL import Image\n",
    "from random import randint\n",
    "import uuid\n",
    "from multiprocessing import Pool\n",
    "import os"
   ]
  },
  {
   "cell_type": "code",
   "execution_count": 2,
   "metadata": {},
   "outputs": [
    {
     "name": "stderr",
     "output_type": "stream",
     "text": [
      "/home/ubuntu/anaconda3/envs/tensorflow_p36/lib/python3.6/site-packages/PIL/TiffImagePlugin.py:764: UserWarning: Corrupt EXIF data.  Expecting to read 4 bytes but only got 0. \n",
      "  warnings.warn(str(msg))\n"
     ]
    },
    {
     "name": "stdout",
     "output_type": "stream",
     "text": [
      "Done!\n"
     ]
    }
   ],
   "source": [
    "def remove_clipart(filepath_filename):\n",
    "    try:\n",
    "        with Image.open(filepath_filename[0]) as im:\n",
    "            x, y = im.size\n",
    "            pixels = im.load()\n",
    "            if im.mode == 'L' or type(pixels) == int or x < 200 or y < 200:\n",
    "                os.rename(filepath_filename[0], '/home/ubuntu/storage/error_files/' + filepath_filename[1])\n",
    "            else:   \n",
    "                status = False\n",
    "\n",
    "                for i in range(4):\n",
    "                    light_pixel = 0\n",
    "\n",
    "                    if i == 0:\n",
    "                        x_pixel = 0\n",
    "                        y_pixel = 0\n",
    "\n",
    "                    if i == 1:\n",
    "                        x_pixel = x - 35\n",
    "                        y_pixel = 0\n",
    "\n",
    "                    if i == 2:\n",
    "                        x_pixel = 0\n",
    "                        y_pixel = y - 1\n",
    "\n",
    "                    if i == 3:\n",
    "                        x_pixel = x - 35\n",
    "                        y_pixel = y - 1\n",
    "\n",
    "                    for k in range(30):\n",
    "                        if len(pixels[x_pixel, y_pixel]) != 3:\n",
    "                            status = True\n",
    "                        else:\n",
    "                            first = pixels[x_pixel, y_pixel][0]\n",
    "                            second = pixels[x_pixel, y_pixel][1]\n",
    "                            third = pixels[x_pixel, y_pixel][2]\n",
    "                            if first > 246 and second > 246 and third > 246:\n",
    "                                light_pixel += 1\n",
    "                            x_pixel += 1\n",
    "                    if light_pixel == 30:\n",
    "                        status = True\n",
    "\n",
    "                if status:\n",
    "                    os.rename(filepath_filename[0], '/home/ubuntu/storage/BW_images/' + filepath_filename[1])\n",
    "    except IOError:\n",
    "        os.rename(filepath_filename[0], '/home/ubuntu/storage/error_files/' + filepath_filename[1])\n",
    "\n",
    "if __name__ == \"__main__\":\n",
    "    img_dir = r\"./pixa_ready/\"\n",
    "    images = []\n",
    "\n",
    "    for filename in os.listdir(img_dir):\n",
    "        filepath = os.path.join(img_dir, filename)\n",
    "        images.append([filepath, filename])\n",
    "\n",
    "    pool = Pool(processes=16) \n",
    "    pool.map(remove_clipart, images)\n",
    "\n",
    "    print(\"Done!\")"
   ]
  },
  {
   "cell_type": "code",
   "execution_count": null,
   "metadata": {},
   "outputs": [],
   "source": []
  }
 ],
 "metadata": {
  "kernelspec": {
   "display_name": "Environment (conda_tensorflow_p36)",
   "language": "python",
   "name": "conda_tensorflow_p36"
  },
  "language_info": {
   "codemirror_mode": {
    "name": "ipython",
    "version": 3
   },
   "file_extension": ".py",
   "mimetype": "text/x-python",
   "name": "python",
   "nbconvert_exporter": "python",
   "pygments_lexer": "ipython3",
   "version": "3.6.6"
  }
 },
 "nbformat": 4,
 "nbformat_minor": 2
}
